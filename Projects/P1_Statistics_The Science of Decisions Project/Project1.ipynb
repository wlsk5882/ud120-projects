{
 "cells": [
  {
   "cell_type": "code",
   "execution_count": 1,
   "metadata": {
    "collapsed": false
   },
   "outputs": [
    {
     "name": "stdout",
     "output_type": "stream",
     "text": [
      "15\n",
      "16\n"
     ]
    }
   ],
   "source": [
    "import pandas as pd\n",
    "import numpy as np\n",
    "import sys\n",
    "\n",
    "for path in sys.path:\n",
    "    pass#print path\n",
    "\n",
    "print len(sys.path)    \n",
    "dir_name = 'C:/Users/Jina/Google Drive/___MOOC___/Udacity_DataAnalyst NanoDegree/P1_project'\n",
    "sys.path.append(dir_name)\n",
    "print len(sys.path)"
   ]
  },
  {
   "cell_type": "code",
   "execution_count": 2,
   "metadata": {
    "collapsed": false
   },
   "outputs": [
    {
     "data": {
      "text/html": [
       "<div>\n",
       "<table border=\"1\" class=\"dataframe\">\n",
       "  <thead>\n",
       "    <tr style=\"text-align: right;\">\n",
       "      <th></th>\n",
       "      <th>Congruent</th>\n",
       "      <th>Incongruent</th>\n",
       "      <th>Difference</th>\n",
       "    </tr>\n",
       "  </thead>\n",
       "  <tbody>\n",
       "    <tr>\n",
       "      <th>0</th>\n",
       "      <td>12.079</td>\n",
       "      <td>19.278</td>\n",
       "      <td>7.199</td>\n",
       "    </tr>\n",
       "    <tr>\n",
       "      <th>1</th>\n",
       "      <td>16.791</td>\n",
       "      <td>18.741</td>\n",
       "      <td>1.950</td>\n",
       "    </tr>\n",
       "    <tr>\n",
       "      <th>2</th>\n",
       "      <td>9.564</td>\n",
       "      <td>21.214</td>\n",
       "      <td>11.650</td>\n",
       "    </tr>\n",
       "  </tbody>\n",
       "</table>\n",
       "</div>"
      ],
      "text/plain": [
       "   Congruent  Incongruent  Difference\n",
       "0     12.079       19.278       7.199\n",
       "1     16.791       18.741       1.950\n",
       "2      9.564       21.214      11.650"
      ]
     },
     "execution_count": 2,
     "metadata": {},
     "output_type": "execute_result"
    }
   ],
   "source": [
    "stroop_df = pd.read_csv('../P1_project/stroopdata.csv')\n",
    "stroop_df.head(3)\n",
    "stroop_df['Difference'] = stroop_df['Incongruent']-stroop_df['Congruent']\n",
    "stroop_df.head(3)\n",
    "\n"
   ]
  },
  {
   "cell_type": "code",
   "execution_count": 3,
   "metadata": {
    "collapsed": false
   },
   "outputs": [
    {
     "name": "stdout",
     "output_type": "stream",
     "text": [
      "Populating the interactive namespace from numpy and matplotlib\n"
     ]
    }
   ],
   "source": [
    "#https://docs.scipy.org/doc/scipy-0.14.0/reference/generated/scipy.stats.ttest_rel.html\n",
    "\n",
    "from scipy.stats import ttest_rel\n",
    "\n",
    "#stroop_df['Difference'].hist(bins=10)\n",
    "import matplotlib.pyplot as plt\n",
    "%pylab inline"
   ]
  },
  {
   "cell_type": "code",
   "execution_count": 39,
   "metadata": {
    "collapsed": false,
    "scrolled": false
   },
   "outputs": [
    {
     "data": {
      "image/png": "[encoded data removed]",
      "text/plain": [
       "<matplotlib.figure.Figure at 0xc401a90>"
      ]
     },
     "metadata": {},
     "output_type": "display_data"
    }
   ],
   "source": [
    "data = stroop_df.iloc[:,0:2].as_matrix()\n",
    "plt.boxplot(data)\n",
    "plt.ylabel(\"Taken time to name colors\")\n",
    "plt.xlabel(\"Conditions\")\n",
    "plt.xticks(arange(2)+1,(\"Congruent\", \"Incongruent\"))\n",
    "plt.title(\"Comparing Taken Times by Conditions\")\n",
    "plt.show()"
   ]
  },
  {
   "cell_type": "code",
   "execution_count": 37,
   "metadata": {
    "collapsed": false,
    "scrolled": true
   },
   "outputs": [
    {
     "data": {
      "image/png": "[encoded data removed]",
      "text/plain": [
       "<matplotlib.figure.Figure at 0xc047550>"
      ]
     },
     "metadata": {},
     "output_type": "display_data"
    }
   ],
   "source": [
    "#import seaborn as sns\n",
    "plt.hist(x=stroop_df['Difference'], bins=10)\n",
    "plt.xlabel('Time taken to name color')\n",
    "plt.ylabel('count')\n",
    "plt.title(\"Histogram of time difference to name color for each pair of data\")\n",
    "plt.show()"
   ]
  },
  {
   "cell_type": "code",
   "execution_count": 27,
   "metadata": {
    "collapsed": false,
    "scrolled": true
   },
   "outputs": [
    {
     "data": {
      "text/plain": [
       "4.8989794855663558"
      ]
     },
     "execution_count": 27,
     "metadata": {},
     "output_type": "execute_result"
    }
   ],
   "source": [
    "stroop_df.head(3)\n",
    "n= stroop_df['Difference'].count()\n",
    "sqrt(n)"
   ]
  },
  {
   "cell_type": "code",
   "execution_count": 29,
   "metadata": {
    "collapsed": false
   },
   "outputs": [
    {
     "name": "stdout",
     "output_type": "stream",
     "text": [
      "7.96479166667 4.86482691036 8.02070694411\n"
     ]
    }
   ],
   "source": [
    "mean_of_diff = stroop_df['Difference'].mean()\n",
    "#ddof = degree of freedom\n",
    "stdev_of_diff = stroop_df['Difference'].std(ddof=1)\n",
    "t_val_of_diff = mean_of_diff/stdev_of_diff*sqrt(n)\n",
    "print mean_of_diff, stdev_of_diff, t_val_of_diff"
   ]
  },
  {
   "cell_type": "code",
   "execution_count": 35,
   "metadata": {
    "collapsed": false
   },
   "outputs": [
    {
     "name": "stdout",
     "output_type": "stream",
     "text": [
      "t-value: -8.0207, p-value: 0.0000\n"
     ]
    }
   ],
   "source": [
    "from scipy.stats import ttest_rel, t\n",
    "\n",
    "t_val, p_val = ttest_rel(stroop_df['Congruent'], stroop_df['Incongruent'])\n",
    "print \"t-value: %.4f, p-value: %.4f\" %(t_val, p_val*2)"
   ]
  }
 ],
 "metadata": {
  "kernelspec": {
   "display_name": "Python 2",
   "language": "python",
   "name": "python2"
  },
  "language_info": {
   "codemirror_mode": {
    "name": "ipython",
    "version": 2
   },
   "file_extension": ".py",
   "mimetype": "text/x-python",
   "name": "python",
   "nbconvert_exporter": "python",
   "pygments_lexer": "ipython2",
   "version": "2.7.11"
  }
 },
 "nbformat": 4,
 "nbformat_minor": 0
}
